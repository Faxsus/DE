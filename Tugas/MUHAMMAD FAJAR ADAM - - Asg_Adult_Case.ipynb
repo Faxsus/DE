{
 "cells": [
  {
   "cell_type": "markdown",
   "id": "7c5a1e90",
   "metadata": {},
   "source": [
    "# Adult Case\n",
    "\n",
    "Use the [Adult](https://archive.ics.uci.edu/dataset/2/adult) data from UC Machine Learning. Please arrange the code and section:  \n",
    "1. Data loading  \n",
    "2. Exploratory Data Analysis (EDA): checking missing value and descriptive statistics\n",
    "3. Split Data into Train and Test\n",
    "4. Imputation (please choose the appropriate imputation)\n",
    "5. Transformation: numeric and categorical transformation using column transformer\n",
    "6. Classification Model: Random Forest\n",
    "7. Impute and Transform Test \n",
    "8. Make Prediction"
   ]
  },
  {
   "cell_type": "markdown",
   "id": "ae4a9fac",
   "metadata": {},
   "source": []
  }
 ],
 "metadata": {
  "language_info": {
   "name": "python"
  }
 },
 "nbformat": 4,
 "nbformat_minor": 5
}
